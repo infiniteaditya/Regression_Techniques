{
  "nbformat": 4,
  "nbformat_minor": 0,
  "metadata": {
    "colab": {
      "name": "Regression Techniques.ipynb",
      "provenance": [],
      "collapsed_sections": []
    },
    "kernelspec": {
      "name": "python3",
      "display_name": "Python 3"
    }
  },
  "cells": [
    {
      "cell_type": "code",
      "metadata": {
        "id": "5PGNjAUNm-uv",
        "colab_type": "code",
        "colab": {}
      },
      "source": [
        "#In this project, We will closely monitor how different regression techniques help us train the dataset for a better accuracy\n",
        "# We will deal with dataset that has features about house and in turn we will keep 'SalePrice' of the house as our target varaible"
      ],
      "execution_count": null,
      "outputs": []
    },
    {
      "cell_type": "code",
      "metadata": {
        "id": "wwRuHf8mnlXS",
        "colab_type": "code",
        "colab": {}
      },
      "source": [
        "# helps us in reading our dataset\n",
        "import pandas as pd \n",
        "#We will first apply 'Decision Tree Algorithm' , it is present in 'scikit learn'\n",
        "from sklearn.tree import DecisionTreeRegressor \n",
        "# To check accuracy \n",
        "from sklearn.metrics import mean_absolute_error"
      ],
      "execution_count": null,
      "outputs": []
    },
    {
      "cell_type": "code",
      "metadata": {
        "id": "dSwy1MqqoL6J",
        "colab_type": "code",
        "colab": {}
      },
      "source": [
        "iowa= pd.read_csv('/content/drive/My Drive/Colab Notebooks/train.csv')"
      ],
      "execution_count": null,
      "outputs": []
    },
    {
      "cell_type": "code",
      "metadata": {
        "id": "JhkvbFe_TL29",
        "colab_type": "code",
        "colab": {}
      },
      "source": [
        ""
      ],
      "execution_count": null,
      "outputs": []
    },
    {
      "cell_type": "code",
      "metadata": {
        "id": "7wif9feTTSLq",
        "colab_type": "code",
        "colab": {
          "base_uri": "https://localhost:8080/",
          "height": 34
        },
        "outputId": "dfe23c16-4c4c-4b7e-eb05-64862cac4958"
      },
      "source": [
        "from google.colab import drive\n",
        "drive.mount('/content/drive')"
      ],
      "execution_count": null,
      "outputs": [
        {
          "output_type": "stream",
          "text": [
            "Drive already mounted at /content/drive; to attempt to forcibly remount, call drive.mount(\"/content/drive\", force_remount=True).\n"
          ],
          "name": "stdout"
        }
      ]
    },
    {
      "cell_type": "code",
      "metadata": {
        "id": "eSzyqJQ-prWr",
        "colab_type": "code",
        "colab": {
          "base_uri": "https://localhost:8080/",
          "height": 304
        },
        "outputId": "9e72d12f-7323-4949-8ae5-8fd0b6f98ee4"
      },
      "source": [
        "#Let us have a look at how our dataset looks like\n",
        "iowa.describe()"
      ],
      "execution_count": null,
      "outputs": [
        {
          "output_type": "execute_result",
          "data": {
            "text/html": [
              "<div>\n",
              "<style scoped>\n",
              "    .dataframe tbody tr th:only-of-type {\n",
              "        vertical-align: middle;\n",
              "    }\n",
              "\n",
              "    .dataframe tbody tr th {\n",
              "        vertical-align: top;\n",
              "    }\n",
              "\n",
              "    .dataframe thead th {\n",
              "        text-align: right;\n",
              "    }\n",
              "</style>\n",
              "<table border=\"1\" class=\"dataframe\">\n",
              "  <thead>\n",
              "    <tr style=\"text-align: right;\">\n",
              "      <th></th>\n",
              "      <th>Id</th>\n",
              "      <th>MSSubClass</th>\n",
              "      <th>LotFrontage</th>\n",
              "      <th>LotArea</th>\n",
              "      <th>OverallQual</th>\n",
              "      <th>OverallCond</th>\n",
              "      <th>YearBuilt</th>\n",
              "      <th>YearRemodAdd</th>\n",
              "      <th>MasVnrArea</th>\n",
              "      <th>BsmtFinSF1</th>\n",
              "      <th>BsmtFinSF2</th>\n",
              "      <th>BsmtUnfSF</th>\n",
              "      <th>TotalBsmtSF</th>\n",
              "      <th>1stFlrSF</th>\n",
              "      <th>2ndFlrSF</th>\n",
              "      <th>LowQualFinSF</th>\n",
              "      <th>GrLivArea</th>\n",
              "      <th>BsmtFullBath</th>\n",
              "      <th>BsmtHalfBath</th>\n",
              "      <th>FullBath</th>\n",
              "      <th>HalfBath</th>\n",
              "      <th>BedroomAbvGr</th>\n",
              "      <th>KitchenAbvGr</th>\n",
              "      <th>TotRmsAbvGrd</th>\n",
              "      <th>Fireplaces</th>\n",
              "      <th>GarageYrBlt</th>\n",
              "      <th>GarageCars</th>\n",
              "      <th>GarageArea</th>\n",
              "      <th>WoodDeckSF</th>\n",
              "      <th>OpenPorchSF</th>\n",
              "      <th>EnclosedPorch</th>\n",
              "      <th>3SsnPorch</th>\n",
              "      <th>ScreenPorch</th>\n",
              "      <th>PoolArea</th>\n",
              "      <th>MiscVal</th>\n",
              "      <th>MoSold</th>\n",
              "      <th>YrSold</th>\n",
              "      <th>SalePrice</th>\n",
              "    </tr>\n",
              "  </thead>\n",
              "  <tbody>\n",
              "    <tr>\n",
              "      <th>count</th>\n",
              "      <td>1460.000000</td>\n",
              "      <td>1460.000000</td>\n",
              "      <td>1201.000000</td>\n",
              "      <td>1460.000000</td>\n",
              "      <td>1460.000000</td>\n",
              "      <td>1460.000000</td>\n",
              "      <td>1460.000000</td>\n",
              "      <td>1460.000000</td>\n",
              "      <td>1452.000000</td>\n",
              "      <td>1460.000000</td>\n",
              "      <td>1460.000000</td>\n",
              "      <td>1460.000000</td>\n",
              "      <td>1460.000000</td>\n",
              "      <td>1460.000000</td>\n",
              "      <td>1460.000000</td>\n",
              "      <td>1460.000000</td>\n",
              "      <td>1460.000000</td>\n",
              "      <td>1460.000000</td>\n",
              "      <td>1460.000000</td>\n",
              "      <td>1460.000000</td>\n",
              "      <td>1460.000000</td>\n",
              "      <td>1460.000000</td>\n",
              "      <td>1460.000000</td>\n",
              "      <td>1460.000000</td>\n",
              "      <td>1460.000000</td>\n",
              "      <td>1379.000000</td>\n",
              "      <td>1460.000000</td>\n",
              "      <td>1460.000000</td>\n",
              "      <td>1460.000000</td>\n",
              "      <td>1460.000000</td>\n",
              "      <td>1460.000000</td>\n",
              "      <td>1460.000000</td>\n",
              "      <td>1460.000000</td>\n",
              "      <td>1460.000000</td>\n",
              "      <td>1460.000000</td>\n",
              "      <td>1460.000000</td>\n",
              "      <td>1460.000000</td>\n",
              "      <td>1460.000000</td>\n",
              "    </tr>\n",
              "    <tr>\n",
              "      <th>mean</th>\n",
              "      <td>730.500000</td>\n",
              "      <td>56.897260</td>\n",
              "      <td>70.049958</td>\n",
              "      <td>10516.828082</td>\n",
              "      <td>6.099315</td>\n",
              "      <td>5.575342</td>\n",
              "      <td>1971.267808</td>\n",
              "      <td>1984.865753</td>\n",
              "      <td>103.685262</td>\n",
              "      <td>443.639726</td>\n",
              "      <td>46.549315</td>\n",
              "      <td>567.240411</td>\n",
              "      <td>1057.429452</td>\n",
              "      <td>1162.626712</td>\n",
              "      <td>346.992466</td>\n",
              "      <td>5.844521</td>\n",
              "      <td>1515.463699</td>\n",
              "      <td>0.425342</td>\n",
              "      <td>0.057534</td>\n",
              "      <td>1.565068</td>\n",
              "      <td>0.382877</td>\n",
              "      <td>2.866438</td>\n",
              "      <td>1.046575</td>\n",
              "      <td>6.517808</td>\n",
              "      <td>0.613014</td>\n",
              "      <td>1978.506164</td>\n",
              "      <td>1.767123</td>\n",
              "      <td>472.980137</td>\n",
              "      <td>94.244521</td>\n",
              "      <td>46.660274</td>\n",
              "      <td>21.954110</td>\n",
              "      <td>3.409589</td>\n",
              "      <td>15.060959</td>\n",
              "      <td>2.758904</td>\n",
              "      <td>43.489041</td>\n",
              "      <td>6.321918</td>\n",
              "      <td>2007.815753</td>\n",
              "      <td>180921.195890</td>\n",
              "    </tr>\n",
              "    <tr>\n",
              "      <th>std</th>\n",
              "      <td>421.610009</td>\n",
              "      <td>42.300571</td>\n",
              "      <td>24.284752</td>\n",
              "      <td>9981.264932</td>\n",
              "      <td>1.382997</td>\n",
              "      <td>1.112799</td>\n",
              "      <td>30.202904</td>\n",
              "      <td>20.645407</td>\n",
              "      <td>181.066207</td>\n",
              "      <td>456.098091</td>\n",
              "      <td>161.319273</td>\n",
              "      <td>441.866955</td>\n",
              "      <td>438.705324</td>\n",
              "      <td>386.587738</td>\n",
              "      <td>436.528436</td>\n",
              "      <td>48.623081</td>\n",
              "      <td>525.480383</td>\n",
              "      <td>0.518911</td>\n",
              "      <td>0.238753</td>\n",
              "      <td>0.550916</td>\n",
              "      <td>0.502885</td>\n",
              "      <td>0.815778</td>\n",
              "      <td>0.220338</td>\n",
              "      <td>1.625393</td>\n",
              "      <td>0.644666</td>\n",
              "      <td>24.689725</td>\n",
              "      <td>0.747315</td>\n",
              "      <td>213.804841</td>\n",
              "      <td>125.338794</td>\n",
              "      <td>66.256028</td>\n",
              "      <td>61.119149</td>\n",
              "      <td>29.317331</td>\n",
              "      <td>55.757415</td>\n",
              "      <td>40.177307</td>\n",
              "      <td>496.123024</td>\n",
              "      <td>2.703626</td>\n",
              "      <td>1.328095</td>\n",
              "      <td>79442.502883</td>\n",
              "    </tr>\n",
              "    <tr>\n",
              "      <th>min</th>\n",
              "      <td>1.000000</td>\n",
              "      <td>20.000000</td>\n",
              "      <td>21.000000</td>\n",
              "      <td>1300.000000</td>\n",
              "      <td>1.000000</td>\n",
              "      <td>1.000000</td>\n",
              "      <td>1872.000000</td>\n",
              "      <td>1950.000000</td>\n",
              "      <td>0.000000</td>\n",
              "      <td>0.000000</td>\n",
              "      <td>0.000000</td>\n",
              "      <td>0.000000</td>\n",
              "      <td>0.000000</td>\n",
              "      <td>334.000000</td>\n",
              "      <td>0.000000</td>\n",
              "      <td>0.000000</td>\n",
              "      <td>334.000000</td>\n",
              "      <td>0.000000</td>\n",
              "      <td>0.000000</td>\n",
              "      <td>0.000000</td>\n",
              "      <td>0.000000</td>\n",
              "      <td>0.000000</td>\n",
              "      <td>0.000000</td>\n",
              "      <td>2.000000</td>\n",
              "      <td>0.000000</td>\n",
              "      <td>1900.000000</td>\n",
              "      <td>0.000000</td>\n",
              "      <td>0.000000</td>\n",
              "      <td>0.000000</td>\n",
              "      <td>0.000000</td>\n",
              "      <td>0.000000</td>\n",
              "      <td>0.000000</td>\n",
              "      <td>0.000000</td>\n",
              "      <td>0.000000</td>\n",
              "      <td>0.000000</td>\n",
              "      <td>1.000000</td>\n",
              "      <td>2006.000000</td>\n",
              "      <td>34900.000000</td>\n",
              "    </tr>\n",
              "    <tr>\n",
              "      <th>25%</th>\n",
              "      <td>365.750000</td>\n",
              "      <td>20.000000</td>\n",
              "      <td>59.000000</td>\n",
              "      <td>7553.500000</td>\n",
              "      <td>5.000000</td>\n",
              "      <td>5.000000</td>\n",
              "      <td>1954.000000</td>\n",
              "      <td>1967.000000</td>\n",
              "      <td>0.000000</td>\n",
              "      <td>0.000000</td>\n",
              "      <td>0.000000</td>\n",
              "      <td>223.000000</td>\n",
              "      <td>795.750000</td>\n",
              "      <td>882.000000</td>\n",
              "      <td>0.000000</td>\n",
              "      <td>0.000000</td>\n",
              "      <td>1129.500000</td>\n",
              "      <td>0.000000</td>\n",
              "      <td>0.000000</td>\n",
              "      <td>1.000000</td>\n",
              "      <td>0.000000</td>\n",
              "      <td>2.000000</td>\n",
              "      <td>1.000000</td>\n",
              "      <td>5.000000</td>\n",
              "      <td>0.000000</td>\n",
              "      <td>1961.000000</td>\n",
              "      <td>1.000000</td>\n",
              "      <td>334.500000</td>\n",
              "      <td>0.000000</td>\n",
              "      <td>0.000000</td>\n",
              "      <td>0.000000</td>\n",
              "      <td>0.000000</td>\n",
              "      <td>0.000000</td>\n",
              "      <td>0.000000</td>\n",
              "      <td>0.000000</td>\n",
              "      <td>5.000000</td>\n",
              "      <td>2007.000000</td>\n",
              "      <td>129975.000000</td>\n",
              "    </tr>\n",
              "    <tr>\n",
              "      <th>50%</th>\n",
              "      <td>730.500000</td>\n",
              "      <td>50.000000</td>\n",
              "      <td>69.000000</td>\n",
              "      <td>9478.500000</td>\n",
              "      <td>6.000000</td>\n",
              "      <td>5.000000</td>\n",
              "      <td>1973.000000</td>\n",
              "      <td>1994.000000</td>\n",
              "      <td>0.000000</td>\n",
              "      <td>383.500000</td>\n",
              "      <td>0.000000</td>\n",
              "      <td>477.500000</td>\n",
              "      <td>991.500000</td>\n",
              "      <td>1087.000000</td>\n",
              "      <td>0.000000</td>\n",
              "      <td>0.000000</td>\n",
              "      <td>1464.000000</td>\n",
              "      <td>0.000000</td>\n",
              "      <td>0.000000</td>\n",
              "      <td>2.000000</td>\n",
              "      <td>0.000000</td>\n",
              "      <td>3.000000</td>\n",
              "      <td>1.000000</td>\n",
              "      <td>6.000000</td>\n",
              "      <td>1.000000</td>\n",
              "      <td>1980.000000</td>\n",
              "      <td>2.000000</td>\n",
              "      <td>480.000000</td>\n",
              "      <td>0.000000</td>\n",
              "      <td>25.000000</td>\n",
              "      <td>0.000000</td>\n",
              "      <td>0.000000</td>\n",
              "      <td>0.000000</td>\n",
              "      <td>0.000000</td>\n",
              "      <td>0.000000</td>\n",
              "      <td>6.000000</td>\n",
              "      <td>2008.000000</td>\n",
              "      <td>163000.000000</td>\n",
              "    </tr>\n",
              "    <tr>\n",
              "      <th>75%</th>\n",
              "      <td>1095.250000</td>\n",
              "      <td>70.000000</td>\n",
              "      <td>80.000000</td>\n",
              "      <td>11601.500000</td>\n",
              "      <td>7.000000</td>\n",
              "      <td>6.000000</td>\n",
              "      <td>2000.000000</td>\n",
              "      <td>2004.000000</td>\n",
              "      <td>166.000000</td>\n",
              "      <td>712.250000</td>\n",
              "      <td>0.000000</td>\n",
              "      <td>808.000000</td>\n",
              "      <td>1298.250000</td>\n",
              "      <td>1391.250000</td>\n",
              "      <td>728.000000</td>\n",
              "      <td>0.000000</td>\n",
              "      <td>1776.750000</td>\n",
              "      <td>1.000000</td>\n",
              "      <td>0.000000</td>\n",
              "      <td>2.000000</td>\n",
              "      <td>1.000000</td>\n",
              "      <td>3.000000</td>\n",
              "      <td>1.000000</td>\n",
              "      <td>7.000000</td>\n",
              "      <td>1.000000</td>\n",
              "      <td>2002.000000</td>\n",
              "      <td>2.000000</td>\n",
              "      <td>576.000000</td>\n",
              "      <td>168.000000</td>\n",
              "      <td>68.000000</td>\n",
              "      <td>0.000000</td>\n",
              "      <td>0.000000</td>\n",
              "      <td>0.000000</td>\n",
              "      <td>0.000000</td>\n",
              "      <td>0.000000</td>\n",
              "      <td>8.000000</td>\n",
              "      <td>2009.000000</td>\n",
              "      <td>214000.000000</td>\n",
              "    </tr>\n",
              "    <tr>\n",
              "      <th>max</th>\n",
              "      <td>1460.000000</td>\n",
              "      <td>190.000000</td>\n",
              "      <td>313.000000</td>\n",
              "      <td>215245.000000</td>\n",
              "      <td>10.000000</td>\n",
              "      <td>9.000000</td>\n",
              "      <td>2010.000000</td>\n",
              "      <td>2010.000000</td>\n",
              "      <td>1600.000000</td>\n",
              "      <td>5644.000000</td>\n",
              "      <td>1474.000000</td>\n",
              "      <td>2336.000000</td>\n",
              "      <td>6110.000000</td>\n",
              "      <td>4692.000000</td>\n",
              "      <td>2065.000000</td>\n",
              "      <td>572.000000</td>\n",
              "      <td>5642.000000</td>\n",
              "      <td>3.000000</td>\n",
              "      <td>2.000000</td>\n",
              "      <td>3.000000</td>\n",
              "      <td>2.000000</td>\n",
              "      <td>8.000000</td>\n",
              "      <td>3.000000</td>\n",
              "      <td>14.000000</td>\n",
              "      <td>3.000000</td>\n",
              "      <td>2010.000000</td>\n",
              "      <td>4.000000</td>\n",
              "      <td>1418.000000</td>\n",
              "      <td>857.000000</td>\n",
              "      <td>547.000000</td>\n",
              "      <td>552.000000</td>\n",
              "      <td>508.000000</td>\n",
              "      <td>480.000000</td>\n",
              "      <td>738.000000</td>\n",
              "      <td>15500.000000</td>\n",
              "      <td>12.000000</td>\n",
              "      <td>2010.000000</td>\n",
              "      <td>755000.000000</td>\n",
              "    </tr>\n",
              "  </tbody>\n",
              "</table>\n",
              "</div>"
            ],
            "text/plain": [
              "                Id   MSSubClass  ...       YrSold      SalePrice\n",
              "count  1460.000000  1460.000000  ...  1460.000000    1460.000000\n",
              "mean    730.500000    56.897260  ...  2007.815753  180921.195890\n",
              "std     421.610009    42.300571  ...     1.328095   79442.502883\n",
              "min       1.000000    20.000000  ...  2006.000000   34900.000000\n",
              "25%     365.750000    20.000000  ...  2007.000000  129975.000000\n",
              "50%     730.500000    50.000000  ...  2008.000000  163000.000000\n",
              "75%    1095.250000    70.000000  ...  2009.000000  214000.000000\n",
              "max    1460.000000   190.000000  ...  2010.000000  755000.000000\n",
              "\n",
              "[8 rows x 38 columns]"
            ]
          },
          "metadata": {
            "tags": []
          },
          "execution_count": 422
        }
      ]
    },
    {
      "cell_type": "code",
      "metadata": {
        "id": "SY9h3YFLp3nb",
        "colab_type": "code",
        "colab": {
          "base_uri": "https://localhost:8080/",
          "height": 34
        },
        "outputId": "0283caa0-67d1-459b-c762-c02495c38fcb"
      },
      "source": [
        "# Now we shall split our data in training and testing data \n",
        "from sklearn.model_selection import train_test_split\n",
        "\n",
        "#Target Variable\n",
        "y=iowa.SalePrice\n",
        "\n",
        "#Since our dataset has many features of house to deal with , for better understanding initially we will take few of them\n",
        "# to train our model\n",
        "\n",
        "features=['LotArea','YearBuilt','1stFlrSF','2ndFlrSF','FullBath','BedroomAbvGr','TotRmsAbvGrd']\n",
        "X=iowa[features]\n",
        "\n",
        "x_train,val_x,y_train,val_y = train_test_split(X,y,random_state=0)\n",
        "\n",
        "iowa_model=DecisionTreeRegressor(random_state=0)\n",
        "iowa_model.fit(x_train,y_train)\n",
        "\n",
        "pred=iowa_model.predict(val_x)\n",
        "MAE= mean_absolute_error(pred,val_y)\n",
        "print('The mean absolute error comes out to be :',MAE)\n"
      ],
      "execution_count": null,
      "outputs": [
        {
          "output_type": "stream",
          "text": [
            "The mean absolute error comes out to be : 32410.824657534245\n"
          ],
          "name": "stdout"
        }
      ]
    },
    {
      "cell_type": "code",
      "metadata": {
        "id": "Br4MCYU1p8BL",
        "colab_type": "code",
        "colab": {}
      },
      "source": [
        "#We find the mean error to be of great deviation from that of 'SalePrice'\n",
        "\n",
        "#let us try to increase the eficiency of the tree"
      ],
      "execution_count": null,
      "outputs": []
    },
    {
      "cell_type": "code",
      "metadata": {
        "id": "N7x2GZMArf3L",
        "colab_type": "code",
        "colab": {}
      },
      "source": [
        "#We will now make function for mean_absolute_error\n",
        "def mae(max_leaf_nodes,x_train,val_x,y_train,val_y):\n",
        "    model=DecisionTreeRegressor(max_leaf_nodes=max_leaf_nodes, random_state=1)\n",
        "    model.fit(x_train,y_train)\n",
        "    pred=model.predict(val_x)\n",
        "    return mean_absolute_error(pred,val_y)"
      ],
      "execution_count": null,
      "outputs": []
    },
    {
      "cell_type": "code",
      "metadata": {
        "id": "lCUfD8Y9s-1x",
        "colab_type": "code",
        "colab": {
          "base_uri": "https://localhost:8080/",
          "height": 34
        },
        "outputId": "7bfc6800-2514-46b9-8cca-82e374a0f3c1"
      },
      "source": [
        "#Let us randomly decide the number of leaf nodes and check max. efficiency\n",
        "max_leaf_nodes=[5,25,50,75,80,100,200,500]\n",
        "min_error=50000\n",
        "value=0\n",
        "for i in max_leaf_nodes:\n",
        "    current_error= mae(i,x_train,val_x,y_train,val_y)\n",
        "    if current_error < min_error:\n",
        "      min_error=current_error\n",
        "      value=i\n",
        "print('Maximum efficiency is found at leaf value',value,'which is equal to error of',min_error)"
      ],
      "execution_count": null,
      "outputs": [
        {
          "output_type": "stream",
          "text": [
            "Maximum efficiency is found at leaf value 80 which is equal to error of 27280.23209035945\n"
          ],
          "name": "stdout"
        }
      ]
    },
    {
      "cell_type": "code",
      "metadata": {
        "id": "xsctzsEavekp",
        "colab_type": "code",
        "colab": {}
      },
      "source": [
        "#We saw that how even small tuning in an algorithm can result into a significant change in its output."
      ],
      "execution_count": null,
      "outputs": []
    },
    {
      "cell_type": "code",
      "metadata": {
        "id": "5zD-IMB707A7",
        "colab_type": "code",
        "colab": {}
      },
      "source": [
        "#Now we should start learning about a better technique than Decision tree i.e. Random Forest"
      ],
      "execution_count": null,
      "outputs": []
    },
    {
      "cell_type": "code",
      "metadata": {
        "id": "scb0cA9U1Z5Z",
        "colab_type": "code",
        "colab": {
          "base_uri": "https://localhost:8080/",
          "height": 34
        },
        "outputId": "0f40392f-747d-4199-9ca5-5452353e799c"
      },
      "source": [
        "#importing Random forest\n",
        "from sklearn.ensemble import RandomForestRegressor\n",
        "rf_model=RandomForestRegressor(random_state=1)\n",
        "rf_model.fit(x_train,y_train)\n",
        "pred=rf_model.predict(val_x)\n",
        "print('The mean absolute error comes out to be :',mean_absolute_error(pred,val_y))"
      ],
      "execution_count": null,
      "outputs": [
        {
          "output_type": "stream",
          "text": [
            "The mean absolute error comes out to be : 23009.206570906717\n"
          ],
          "name": "stdout"
        }
      ]
    },
    {
      "cell_type": "code",
      "metadata": {
        "id": "YlwhlqBG17zc",
        "colab_type": "code",
        "colab": {}
      },
      "source": [
        "#Let us start tuning into Random Forest for some better results\n",
        "\n",
        "model1=RandomForestRegressor(n_estimators=50,random_state=0)\n",
        "model2=RandomForestRegressor(n_estimators=100,random_state=0)\n",
        "model3=RandomForestRegressor(n_estimators=100,criterion='mse',random_state=0)\n",
        "model4=RandomForestRegressor(n_estimators=200,min_samples_split=20,random_state=0)\n",
        "model5=RandomForestRegressor(n_estimators=200,max_depth=10,random_state=1)\n",
        "model6=RandomForestRegressor(n_estimators=300,max_depth=10,random_state=1)\n",
        "models=[model1,model2,model3,model4,model5,model6]"
      ],
      "execution_count": null,
      "outputs": []
    },
    {
      "cell_type": "code",
      "metadata": {
        "id": "eWpvxJDs67D9",
        "colab_type": "code",
        "colab": {}
      },
      "source": [
        "#lets find out the best tweaking resul\n",
        "def random_mae(model,x_train,val_x,y_train,val_y):\n",
        "  model.fit(x_train,y_train)\n",
        "  pred=model.predict(val_x)\n",
        "  return mean_absolute_error(pred,val_y)"
      ],
      "execution_count": null,
      "outputs": []
    },
    {
      "cell_type": "code",
      "metadata": {
        "id": "7GcP17O-71Aa",
        "colab_type": "code",
        "colab": {
          "base_uri": "https://localhost:8080/",
          "height": 118
        },
        "outputId": "7232d7dd-dd72-4aab-bf86-628230ad8863"
      },
      "source": [
        "for i in range(0,6) :\n",
        "  error=random_mae(models[i],x_train,val_x,y_train,val_y)\n",
        "  print('Model',i+1,'produced an error of',error)"
      ],
      "execution_count": null,
      "outputs": [
        {
          "output_type": "stream",
          "text": [
            "Model 1 produced an error of 23242.58928767123\n",
            "Model 2 produced an error of 23093.063676581867\n",
            "Model 3 produced an error of 23093.063676581867\n",
            "Model 4 produced an error of 23037.92453211424\n",
            "Model 5 produced an error of 22610.257134008883\n",
            "Model 6 produced an error of 22699.26032153816\n"
          ],
          "name": "stdout"
        }
      ]
    },
    {
      "cell_type": "code",
      "metadata": {
        "id": "9JKGqwuc-dc7",
        "colab_type": "code",
        "colab": {}
      },
      "source": [
        "#Model 5 performed best among all\n",
        "final_model=model5"
      ],
      "execution_count": null,
      "outputs": []
    },
    {
      "cell_type": "code",
      "metadata": {
        "id": "uAQIl0GjBmGR",
        "colab_type": "code",
        "colab": {}
      },
      "source": [
        "#We saw a significant change in mean_absolute_error after aplyiing Random Forest and its tweak"
      ],
      "execution_count": null,
      "outputs": []
    },
    {
      "cell_type": "code",
      "metadata": {
        "id": "B49kjTHiFU-6",
        "colab_type": "code",
        "colab": {}
      },
      "source": [
        "#Now we will shall learn about tweaking the data in order to get lesser errors\n",
        "# We will start with solving the problem of Missing Values\n",
        "import pandas as pd\n",
        "from sklearn.model_selection import train_test_split\n",
        "\n",
        "# Read the data\n",
        "X_full = pd.read_csv('/content/drive/My Drive/Colab Notebooks/train.csv', index_col='Id')\n",
        "X_test_full = pd.read_csv('/content/drive/My Drive/Colab Notebooks/test.csv', index_col='Id')\n",
        "\n",
        "# Remove rows with missing target, separate target from predictors\n",
        "X_full.dropna(axis=0, subset=['SalePrice'], inplace=True)\n",
        "y = X_full.SalePrice\n",
        "X_full.drop(['SalePrice'], axis=1, inplace=True)\n",
        "\n",
        "# To keep things simple, we'll use only numerical predictors\n",
        "X = X_full.select_dtypes(exclude=['object'])\n",
        "X_test_set = X_test_full.select_dtypes(exclude=['object'])\n",
        "\n",
        "# Break off validation set from training data\n",
        "x_train, val_x, y_train, val_y = train_test_split(X, y, train_size=0.8, test_size=0.2)"
      ],
      "execution_count": null,
      "outputs": []
    },
    {
      "cell_type": "code",
      "metadata": {
        "id": "4y6wuJFFaTxB",
        "colab_type": "code",
        "colab": {
          "base_uri": "https://localhost:8080/",
          "height": 84
        },
        "outputId": "a439b619-4e88-4930-8c0c-e5cf9d3fcdc3"
      },
      "source": [
        "#Method 1: Drop the columns with missing values\n",
        "model=RandomForestRegressor(n_estimators=100, random_state=0)\n",
        "\n",
        "models= [model,final_model]\n",
        "\n",
        "x_train,val_x,y_train,val_y = train_test_split(X,y,random_state=0)\n",
        "cols_miss= [col for col in x_train.columns\n",
        "                     if x_train[col].isnull().any()]\n",
        "\n",
        "print('The Missing Columns Are:', *cols_miss)\n",
        "\n",
        "reduced_X_train = x_train.drop(cols_miss, axis=1)\n",
        "reduced_X_valid = val_x.drop(cols_miss, axis=1)\n",
        "\n",
        "print(\"MAE from Method 1 i.e. Drop the columns with missing values is:\")\n",
        "for i in models:\n",
        "    print(random_mae(i,reduced_X_train,reduced_X_valid,y_train,val_y))\n",
        "\n"
      ],
      "execution_count": null,
      "outputs": [
        {
          "output_type": "stream",
          "text": [
            "The Missing Columns Are: LotFrontage MasVnrArea GarageYrBlt\n",
            "MAE from Method 1 i.e. Drop the columns with missing values is:\n",
            "17668.575013698628\n",
            "17421.370448147234\n"
          ],
          "name": "stdout"
        }
      ]
    },
    {
      "cell_type": "code",
      "metadata": {
        "id": "OG1hJ_SVVKgx",
        "colab_type": "code",
        "colab": {
          "base_uri": "https://localhost:8080/",
          "height": 67
        },
        "outputId": "f370db3b-1e0a-422a-d832-380cf02ab452"
      },
      "source": [
        "#Method 2 : Imputing\n",
        "from sklearn.impute import SimpleImputer\n",
        "impu = SimpleImputer()\n",
        "\n",
        "imputed_X_train = pd.DataFrame(impu.fit_transform(x_train))\n",
        "imputed_X_validation = pd.DataFrame(impu.transform(val_x))\n",
        "\n",
        "print(\"MAE from Method 2 i.e. Imputing is :\")\n",
        "for i in models:\n",
        "    print(random_mae(i,imputed_X_train,imputed_X_validation,y_train,val_y))\n"
      ],
      "execution_count": null,
      "outputs": [
        {
          "output_type": "stream",
          "text": [
            "MAE from Method 2 i.e. Imputing is :\n",
            "17502.924712328768\n",
            "17406.35043596862\n"
          ],
          "name": "stdout"
        }
      ]
    },
    {
      "cell_type": "code",
      "metadata": {
        "id": "mqdCvEcFJeOw",
        "colab_type": "code",
        "colab": {}
      },
      "source": [
        "#Now we will deal with Categorial Variables and how to remove them"
      ],
      "execution_count": null,
      "outputs": []
    },
    {
      "cell_type": "code",
      "metadata": {
        "id": "Tle1O51WJvKa",
        "colab_type": "code",
        "colab": {}
      },
      "source": [
        "#Lets make a function to examine the Efficiency of each learned method\n",
        "#This time we will include imputer so that values such as NaN , infinity and large values that float32 can not\n",
        "#handle will be removed before feeding the data to score\n",
        "def score(train_x,val_x,train_y,val_y):\n",
        "    impu = SimpleImputer()\n",
        "    model = RandomForestRegressor(n_estimators=100,random_state=0)\n",
        "    new_train_x = pd.DataFrame(impu.fit_transform(train_x))\n",
        "    new_val_x = pd.DataFrame(impu.transform(val_x))\n",
        "    model.fit(new_train_x,train_y)\n",
        "    predictions = model.predict(new_val_x)\n",
        "    return mean_absolute_error(predictions,val_y)"
      ],
      "execution_count": null,
      "outputs": []
    },
    {
      "cell_type": "code",
      "metadata": {
        "id": "nUt6ZQuBhoSM",
        "colab_type": "code",
        "colab": {
          "base_uri": "https://localhost:8080/",
          "height": 34
        },
        "outputId": "2d665d9d-580a-425f-cb29-5e88a1c274c7"
      },
      "source": [
        "#Method 1 : Drop columns with categorical variables\n",
        "drop_X_train = x_train.select_dtypes(exclude=['object'])\n",
        "drop_X_valid = val_x.select_dtypes(exclude=['object'])\n",
        "\n",
        "print('MAE after Dropping columns:',score(drop_X_train,drop_X_valid,y_train,val_y))"
      ],
      "execution_count": null,
      "outputs": [
        {
          "output_type": "stream",
          "text": [
            "MAE after Dropping columns: 18747.352020547944\n"
          ],
          "name": "stdout"
        }
      ]
    },
    {
      "cell_type": "code",
      "metadata": {
        "id": "Ci-xl5ZWinkc",
        "colab_type": "code",
        "colab": {
          "base_uri": "https://localhost:8080/",
          "height": 67
        },
        "outputId": "8478bcd9-0e4b-4ed3-e73f-a84c3216be92"
      },
      "source": [
        "#Method 2 : Label Encoding\n",
        "#Before jumping into label encoding, we'll investigate the dataset. Specifically, we'll look at the 'Condition2' column.\n",
        "y=iowa['SalePrice']\n",
        "X=iowa.drop('SalePrice',axis=1)\n",
        "x_train, val_x, y_train, val_y = train_test_split(X, y, train_size=0.8, test_size=0.2)\n",
        "\n",
        "print(\"Unique values in 'Condition2' column in training data:\", x_train['Condition2'].unique())\n",
        "print(\"\\nUnique values in 'Condition2' column in validation data:\", val_x['Condition2'].unique())"
      ],
      "execution_count": null,
      "outputs": [
        {
          "output_type": "stream",
          "text": [
            "Unique values in 'Condition2' column in training data: ['Norm' 'Feedr' 'PosA' 'RRAe' 'RRNn' 'PosN']\n",
            "\n",
            "Unique values in 'Condition2' column in validation data: ['Norm' 'Feedr' 'Artery' 'PosN' 'RRAn' 'RRNn']\n"
          ],
          "name": "stdout"
        }
      ]
    },
    {
      "cell_type": "code",
      "metadata": {
        "id": "efpsfEx0wCaj",
        "colab_type": "code",
        "colab": {}
      },
      "source": [
        "#Here we find that both of the condition 2 column are not same. Fitting a label encoder to a column in the training data\n",
        "# creates a corresponding integer-valued label for each unique value that appears in the training data. \n",
        "#In the case that the validation data contains values that don't also appear in the training data\n",
        "#the encoder will throw an error, because these values won't have an integer assigned to them.\n",
        "# Notice that the 'Condition2' column in the validation data contains the values 'RRAn' and 'RRNn'\n",
        "#but these don't appear in the training data -- thus, if we try to use a label encoder with scikit-learn, the code will throw an error.\n",
        "\n",
        "#A solution to such an issue can possibly be to remove such columns"
      ],
      "execution_count": null,
      "outputs": []
    },
    {
      "cell_type": "code",
      "metadata": {
        "id": "5wzFMs0e123v",
        "colab_type": "code",
        "colab": {
          "base_uri": "https://localhost:8080/",
          "height": 87
        },
        "outputId": "e0e38987-6190-4a29-80d2-793bb8bd5914"
      },
      "source": [
        "# All categorical columns\n",
        "object_cols = [col for col in x_train.columns if x_train[col].dtype == \"object\"]\n",
        "\n",
        "# Columns that can be safely label encoded\n",
        "good_label_cols = [col for col in object_cols if \n",
        "                   set(x_train[col]) == set(val_x[col])]\n",
        "        \n",
        "# Problematic columns that will be dropped from the dataset\n",
        "bad_label_cols = list(set(object_cols)-set(good_label_cols))\n",
        "        \n",
        "print('Categorical', len(good_label_cols), 'columns that will be label encoded:', good_label_cols)\n",
        "print('\\nCategorical' , len(bad_label_cols),  'columns that will be dropped from the dataset:', bad_label_cols)"
      ],
      "execution_count": null,
      "outputs": [
        {
          "output_type": "stream",
          "text": [
            "Categorical 25 columns that will be label encoded: ['MSZoning', 'Street', 'Alley', 'LotShape', 'LandContour', 'LotConfig', 'LandSlope', 'BldgType', 'HouseStyle', 'MasVnrType', 'ExterQual', 'BsmtQual', 'BsmtCond', 'BsmtExposure', 'BsmtFinType1', 'BsmtFinType2', 'CentralAir', 'KitchenQual', 'FireplaceQu', 'GarageType', 'GarageFinish', 'GarageQual', 'PavedDrive', 'Fence', 'SaleCondition']\n",
            "\n",
            "Categorical 18 columns that will be dropped from the dataset: ['SaleType', 'RoofMatl', 'Condition2', 'PoolQC', 'Exterior1st', 'HeatingQC', 'ExterCond', 'RoofStyle', 'Neighborhood', 'Electrical', 'Condition1', 'Exterior2nd', 'GarageCond', 'Functional', 'Foundation', 'Heating', 'MiscFeature', 'Utilities']\n"
          ],
          "name": "stdout"
        }
      ]
    },
    {
      "cell_type": "code",
      "metadata": {
        "id": "5nz80eBM3zEO",
        "colab_type": "code",
        "colab": {
          "base_uri": "https://localhost:8080/",
          "height": 50
        },
        "outputId": "b7217a43-5b23-462a-bd69-39de9397fda2"
      },
      "source": [
        "#Now we can apply label encoding on the dataset\n",
        "\n",
        "from sklearn.preprocessing import LabelEncoder\n",
        "\n",
        "label_x_train = x_train.drop(bad_label_cols,axis=1)\n",
        "label_val_x = val_x.drop(bad_label_cols,axis=1)\n",
        "\n",
        "lenco=LabelEncoder()\n",
        "for col in good_label_cols:\n",
        "  label_x_train[col]=lenco.fit_transform(label_x_train[col].astype('str'))\n",
        "  label_val_x[col]=lenco.transform(label_val_x[col].astype('str'))\n",
        "#print(label_val_x.shape)\n",
        "print('MAE after Method 2 i.e. Label Encoding:')\n",
        "print(score(label_x_train,label_val_x,y_train,val_y))"
      ],
      "execution_count": null,
      "outputs": [
        {
          "output_type": "stream",
          "text": [
            "MAE after Method 2 i.e. Label Encoding:\n",
            "17765.301438356164\n"
          ],
          "name": "stdout"
        }
      ]
    },
    {
      "cell_type": "code",
      "metadata": {
        "id": "173VNIyJ8HTu",
        "colab_type": "code",
        "colab": {}
      },
      "source": [
        "#So far, we've tried two different approaches to dealing with categorical variables.\n",
        "# And, we've seen that encoding categorical data yields better results than removing columns from the dataset."
      ],
      "execution_count": null,
      "outputs": []
    },
    {
      "cell_type": "code",
      "metadata": {
        "id": "Rd4kydlQW3hG",
        "colab_type": "code",
        "colab": {}
      },
      "source": [
        "#Now we should learn about One Hot Encoding\n"
      ],
      "execution_count": null,
      "outputs": []
    },
    {
      "cell_type": "code",
      "metadata": {
        "id": "tZg7FXdYYDGE",
        "colab_type": "code",
        "colab": {
          "base_uri": "https://localhost:8080/",
          "height": 739
        },
        "outputId": "ddd586ec-998b-491e-ba0b-98a5c34022e2"
      },
      "source": [
        "# Get number of unique entries in each column with categorical data\n",
        "\n",
        "\n",
        "object_cols= [col for col in x_train if x_train[col].dtype=='object']\n",
        "#print(len(object_cols))\n",
        "unique_objects = list(map(lambda col: x_train[col].nunique(), object_cols))\n",
        "d = dict(zip(object_cols, unique_objects))\n",
        "# Print number of unique entries by column, in ascending order\n",
        "sorted(d.items(), key=lambda x: x[1])"
      ],
      "execution_count": null,
      "outputs": [
        {
          "output_type": "execute_result",
          "data": {
            "text/plain": [
              "[('Street', 2),\n",
              " ('Alley', 2),\n",
              " ('Utilities', 2),\n",
              " ('CentralAir', 2),\n",
              " ('LandSlope', 3),\n",
              " ('GarageFinish', 3),\n",
              " ('PavedDrive', 3),\n",
              " ('PoolQC', 3),\n",
              " ('LotShape', 4),\n",
              " ('LandContour', 4),\n",
              " ('MasVnrType', 4),\n",
              " ('ExterQual', 4),\n",
              " ('BsmtQual', 4),\n",
              " ('BsmtCond', 4),\n",
              " ('BsmtExposure', 4),\n",
              " ('Electrical', 4),\n",
              " ('KitchenQual', 4),\n",
              " ('GarageCond', 4),\n",
              " ('Fence', 4),\n",
              " ('MiscFeature', 4),\n",
              " ('MSZoning', 5),\n",
              " ('LotConfig', 5),\n",
              " ('BldgType', 5),\n",
              " ('ExterCond', 5),\n",
              " ('HeatingQC', 5),\n",
              " ('FireplaceQu', 5),\n",
              " ('GarageQual', 5),\n",
              " ('Condition2', 6),\n",
              " ('RoofStyle', 6),\n",
              " ('Foundation', 6),\n",
              " ('BsmtFinType1', 6),\n",
              " ('BsmtFinType2', 6),\n",
              " ('Heating', 6),\n",
              " ('GarageType', 6),\n",
              " ('SaleCondition', 6),\n",
              " ('Functional', 7),\n",
              " ('HouseStyle', 8),\n",
              " ('RoofMatl', 8),\n",
              " ('Condition1', 9),\n",
              " ('SaleType', 9),\n",
              " ('Exterior1st', 15),\n",
              " ('Exterior2nd', 15),\n",
              " ('Neighborhood', 25)]"
            ]
          },
          "metadata": {
            "tags": []
          },
          "execution_count": 457
        }
      ]
    },
    {
      "cell_type": "code",
      "metadata": {
        "id": "Af27epAaYEEV",
        "colab_type": "code",
        "colab": {
          "base_uri": "https://localhost:8080/",
          "height": 87
        },
        "outputId": "48075ad6-b1ff-46c8-9c13-41e8600ac98a"
      },
      "source": [
        "# Columns that will be one-hot encoded\n",
        "low_cardinality_cols = [col for col in object_cols if x_train[col].nunique() < 10]\n",
        "\n",
        "# Columns that will be dropped from the dataset\n",
        "high_cardinality_cols = list(set(object_cols)-set(low_cardinality_cols))\n",
        "\n",
        "print('Categorical columns that will be one-hot encoded:', low_cardinality_cols)\n",
        "print('\\nCategorical columns that will be dropped from the dataset:', high_cardinality_cols)"
      ],
      "execution_count": null,
      "outputs": [
        {
          "output_type": "stream",
          "text": [
            "Categorical columns that will be one-hot encoded: ['MSZoning', 'Street', 'Alley', 'LotShape', 'LandContour', 'Utilities', 'LotConfig', 'LandSlope', 'Condition1', 'Condition2', 'BldgType', 'HouseStyle', 'RoofStyle', 'RoofMatl', 'MasVnrType', 'ExterQual', 'ExterCond', 'Foundation', 'BsmtQual', 'BsmtCond', 'BsmtExposure', 'BsmtFinType1', 'BsmtFinType2', 'Heating', 'HeatingQC', 'CentralAir', 'Electrical', 'KitchenQual', 'Functional', 'FireplaceQu', 'GarageType', 'GarageFinish', 'GarageQual', 'GarageCond', 'PavedDrive', 'PoolQC', 'Fence', 'MiscFeature', 'SaleType', 'SaleCondition']\n",
            "\n",
            "Categorical columns that will be dropped from the dataset: ['Neighborhood', 'Exterior2nd', 'Exterior1st']\n"
          ],
          "name": "stdout"
        }
      ]
    },
    {
      "cell_type": "code",
      "metadata": {
        "id": "VME_MpnIaMCf",
        "colab_type": "code",
        "colab": {
          "base_uri": "https://localhost:8080/",
          "height": 101
        },
        "outputId": "36b14b97-532f-4c4b-8ab1-3c9c51c4ce5c"
      },
      "source": [
        "from sklearn.preprocessing import OneHotEncoder\n",
        "\n",
        "# Apply one-hot encoder to each column with categorical data\n",
        "OH_encoder = OneHotEncoder(handle_unknown='ignore', sparse=False)\n",
        "\n",
        "OH_train = x_train[low_cardinality_cols]\n",
        "for i in OH_train.columns:\n",
        "    OH_train[i].fillna(0,inplace= True)\n",
        "\n",
        "OH_valid = val_x[low_cardinality_cols]\n",
        "for i in OH_valid:\n",
        "    OH_valid[i].fillna(0,inplace= True)\n",
        "\n",
        "\n",
        "OH_cols_train = pd.DataFrame(OH_encoder.fit_transform(OH_train[low_cardinality_cols].astype('str')))\n",
        "OH_cols_valid = pd.DataFrame(OH_encoder.transform(OH_valid[low_cardinality_cols].astype('str')))\n",
        "\n",
        "# One-hot encoding removed index; put it back\n",
        "OH_cols_train.index = x_train.index\n",
        "OH_cols_valid.index = val_x.index\n",
        "\n",
        "# Remove categorical columns (will replace with one-hot encoding)\n",
        "num_X_train = x_train.drop(object_cols, axis=1)\n",
        "num_X_valid = val_x.drop(object_cols, axis=1)\n",
        "\n",
        "# Add one-hot encoded columns to numerical features\n",
        "OH_X_train = pd.concat([num_X_train, OH_cols_train], axis=1)\n",
        "OH_X_valid = pd.concat([num_X_valid, OH_cols_valid], axis=1)\n"
      ],
      "execution_count": null,
      "outputs": [
        {
          "output_type": "stream",
          "text": [
            "/usr/local/lib/python3.6/dist-packages/pandas/core/generic.py:6245: SettingWithCopyWarning: \n",
            "A value is trying to be set on a copy of a slice from a DataFrame\n",
            "\n",
            "See the caveats in the documentation: https://pandas.pydata.org/pandas-docs/stable/user_guide/indexing.html#returning-a-view-versus-a-copy\n",
            "  self._update_inplace(new_data)\n"
          ],
          "name": "stderr"
        }
      ]
    },
    {
      "cell_type": "code",
      "metadata": {
        "id": "tmTCCDwXameZ",
        "colab_type": "code",
        "colab": {
          "base_uri": "https://localhost:8080/",
          "height": 50
        },
        "outputId": "4d58fac4-d2a2-4d57-b550-1d0d6f8a2012"
      },
      "source": [
        "print(\"MAE from Approach 3 i.e. (One-Hot Encoding):\") \n",
        "print(score(OH_X_train, OH_X_valid, y_train, val_y))"
      ],
      "execution_count": null,
      "outputs": [
        {
          "output_type": "stream",
          "text": [
            "MAE from Approach 3 i.e. (One-Hot Encoding):\n",
            "17674.251369863014\n"
          ],
          "name": "stdout"
        }
      ]
    },
    {
      "cell_type": "code",
      "metadata": {
        "id": "Ouk7OP_IcM-L",
        "colab_type": "code",
        "colab": {}
      },
      "source": [
        ""
      ],
      "execution_count": null,
      "outputs": []
    }
  ]
}